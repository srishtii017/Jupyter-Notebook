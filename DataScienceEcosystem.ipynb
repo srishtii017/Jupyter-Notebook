{
 "cells": [
  {
   "cell_type": "markdown",
   "id": "b016a2ef-1b62-41f1-af6b-14224c909849",
   "metadata": {},
   "source": [
    "# Data Science Tools and Ecosystem"
   ]
  },
  {
   "cell_type": "markdown",
   "id": "1b67b6c1-d5ea-4e93-9982-cfe99b03312b",
   "metadata": {},
   "source": [
    "In this notebook, Data Science Tools and Ecosystem are summarized."
   ]
  },
  {
   "cell_type": "markdown",
   "id": "f076e045-b8f8-4d5a-a4f7-dac6c6122c56",
   "metadata": {},
   "source": [
    "Some of the popular languages that Data Scientists use are:\n",
    "1. Pyhton\n",
    "2. R\n",
    "3. julia"
   ]
  },
  {
   "cell_type": "markdown",
   "id": "f5f192c2-6ddb-4b2e-936b-73e67f1b23e9",
   "metadata": {},
   "source": [
    "Some of the commonly used libraries used by Data Scientists include:\n",
    "1. Mlatplotlib\n",
    "2. Numpy\n",
    "3. Pandas"
   ]
  },
  {
   "cell_type": "markdown",
   "id": "cbecdc34-d3ff-4456-abc0-da2008f6f0db",
   "metadata": {},
   "source": [
    "| Data Science Tools |\n",
    "|--------------------|\n",
    "| Weka |\n",
    "| Scrapy |\n",
    "| Pandas |"
   ]
  },
  {
   "cell_type": "markdown",
   "id": "42e55851-8800-44b8-a616-73c9c3f96a53",
   "metadata": {},
   "source": [
    "### Below are a few examples of evaluating arithmetic expression in Python."
   ]
  },
  {
   "cell_type": "code",
   "execution_count": 1,
   "id": "f9ddae36-22fb-4196-aa7f-dd99af096bd4",
   "metadata": {
    "tags": []
   },
   "outputs": [
    {
     "data": {
      "text/plain": [
       "17"
      ]
     },
     "execution_count": 1,
     "metadata": {},
     "output_type": "execute_result"
    }
   ],
   "source": [
    "# This is a simple arithmetic expression to multiply then add integers.\n",
    "(3*4)+5"
   ]
  },
  {
   "cell_type": "code",
   "execution_count": 2,
   "id": "af93553c-4e07-4d83-8f5f-e3d684c25814",
   "metadata": {
    "tags": []
   },
   "outputs": [
    {
     "data": {
      "text/plain": [
       "3.3333333333333335"
      ]
     },
     "execution_count": 2,
     "metadata": {},
     "output_type": "execute_result"
    }
   ],
   "source": [
    "# This will convert 200 minutes to hours by divide by 60\n",
    "(200/60)"
   ]
  },
  {
   "cell_type": "markdown",
   "id": "4388cfd8-1b8d-4bca-8104-56dd5c0556a8",
   "metadata": {},
   "source": [
    "**Objectives:**\n",
    "- List popular Language\n",
    "- Commonly used libraries\n",
    "- Data science tools\n",
    "- Arithmetic Operation"
   ]
  },
  {
   "cell_type": "markdown",
   "id": "325d16a1-0725-430f-81d7-2338d6d67c1c",
   "metadata": {},
   "source": [
    "## Author\n",
    "Srishti Gupta"
   ]
  },
  {
   "cell_type": "code",
   "execution_count": null,
   "id": "5c3f7284-131c-4cd9-a97d-8542627cf658",
   "metadata": {},
   "outputs": [],
   "source": []
  }
 ],
 "metadata": {
  "kernelspec": {
   "display_name": "Python",
   "language": "python",
   "name": "conda-env-python-py"
  },
  "language_info": {
   "codemirror_mode": {
    "name": "ipython",
    "version": 3
   },
   "file_extension": ".py",
   "mimetype": "text/x-python",
   "name": "python",
   "nbconvert_exporter": "python",
   "pygments_lexer": "ipython3",
   "version": "3.7.12"
  }
 },
 "nbformat": 4,
 "nbformat_minor": 5
}
